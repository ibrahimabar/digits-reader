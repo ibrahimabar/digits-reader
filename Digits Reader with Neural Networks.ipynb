{
 "cells": [
  {
   "cell_type": "code",
   "execution_count": 29,
   "metadata": {
    "collapsed": false
   },
   "outputs": [
    {
     "name": "stdout",
     "output_type": "stream",
     "text": [
      "Epoch 1/3\n",
      "60000/60000 [==============================] - 7s 113us/step - loss: 0.2550 - acc: 0.9235\n",
      "Epoch 2/3\n",
      "60000/60000 [==============================] - 6s 103us/step - loss: 0.1053 - acc: 0.9671\n",
      "Epoch 3/3\n",
      "60000/60000 [==============================] - 6s 103us/step - loss: 0.0740 - acc: 0.9761\n"
     ]
    },
    {
     "data": {
      "text/plain": [
       "<tensorflow.python.keras.callbacks.History at 0x21184c745c0>"
      ]
     },
     "execution_count": 29,
     "metadata": {},
     "output_type": "execute_result"
    }
   ],
   "source": [
    "import tensorflow as tf\n",
    "import matplotlib.pyplot as plt\n",
    "\n",
    "mnist = tf.keras.datasets.mnist # 28x28 images of digits 0-9\n",
    "\n",
    "# load data in train and test sets\n",
    "(x_train, y_train), (x_test, y_test) = mnist.load_data()\n",
    "\n",
    "# normalize input data values between 0 and 1\n",
    "x_train = tf.keras.utils.normalize(x_train, axis=1)\n",
    "x_test = tf.keras.utils.normalize(x_test, axis=1)\n",
    "\n",
    "# build models\n",
    "model = tf.keras.models.Sequential()\n",
    "\n",
    "#input layer (flattened)\n",
    "model.add(tf.keras.layers.Flatten())\n",
    "\n",
    "#first hidden layer (dense) with 128 and relu in activation\n",
    "model.add(tf.keras.layers.Dense(128, activation = tf.nn.relu))\n",
    "\n",
    "#second hidden layer (dense) with 128 and relu in activation\n",
    "model.add(tf.keras.layers.Dense(128, activation  = tf.nn.relu))\n",
    "\n",
    "#ouptut layer (dense) with 10 units (labels) and softmax in activation\n",
    "model.add(tf.keras.layers.Dense(10, activation = tf.nn.softmax))\n",
    "\n",
    "model.compile(optimizer='adam', loss='sparse_categorical_crossentropy',\n",
    "              metrics=['accuracy'])\n",
    "\n",
    "model.fit(x_train,y_train, epochs=3)"
   ]
  },
  {
   "cell_type": "code",
   "execution_count": 30,
   "metadata": {
    "collapsed": false
   },
   "outputs": [
    {
     "name": "stdout",
     "output_type": "stream",
     "text": [
      "10000/10000 [==============================] - 0s 48us/step\n",
      "0.0977452264331 0.9697\n"
     ]
    }
   ],
   "source": [
    "val_loss, val_acc = model.evaluate(x_test,y_test)\n",
    "print(val_loss, val_acc)"
   ]
  },
  {
   "cell_type": "code",
   "execution_count": 18,
   "metadata": {
    "collapsed": true
   },
   "outputs": [],
   "source": [
    "model.save('epic_num_reader.model')"
   ]
  },
  {
   "cell_type": "code",
   "execution_count": 19,
   "metadata": {
    "collapsed": true
   },
   "outputs": [],
   "source": [
    "new_model = tf.keras.models.load_model('epic_num_reader.model')"
   ]
  },
  {
   "cell_type": "code",
   "execution_count": 20,
   "metadata": {
    "collapsed": true
   },
   "outputs": [],
   "source": [
    "predictions = new_model.predict([x_test])"
   ]
  },
  {
   "cell_type": "code",
   "execution_count": 22,
   "metadata": {
    "collapsed": false
   },
   "outputs": [
    {
     "name": "stdout",
     "output_type": "stream",
     "text": [
      "[[  5.49023466e-11   1.39655413e-07   1.48326235e-05 ...,   9.99981284e-01\n",
      "    9.45772172e-09   3.26170692e-07]\n",
      " [  4.94613062e-09   7.94182561e-05   9.99920130e-01 ...,   6.47142451e-10\n",
      "    5.90223148e-10   5.69008686e-12]\n",
      " [  2.37357138e-08   9.99895930e-01   3.34171127e-05 ...,   3.86463362e-05\n",
      "    1.67334892e-05   1.70254009e-06]\n",
      " ..., \n",
      " [  1.01130606e-08   1.49827898e-07   1.73925116e-07 ...,   2.21136384e-06\n",
      "    7.65914137e-06   1.04993058e-04]\n",
      " [  1.35987531e-04   9.10948529e-06   4.72877218e-05 ...,   1.30219942e-05\n",
      "    7.86256060e-05   1.15653677e-07]\n",
      " [  1.93343453e-06   6.52808083e-08   5.76591674e-07 ...,   3.62863462e-10\n",
      "    4.57048145e-07   8.14640355e-09]]\n"
     ]
    }
   ],
   "source": [
    "print(predictions)"
   ]
  },
  {
   "cell_type": "code",
   "execution_count": 23,
   "metadata": {
    "collapsed": false
   },
   "outputs": [
    {
     "name": "stdout",
     "output_type": "stream",
     "text": [
      "7\n"
     ]
    }
   ],
   "source": [
    "import numpy as np\n",
    "\n",
    "print(np.argmax(predictions[0]))"
   ]
  },
  {
   "cell_type": "code",
   "execution_count": 26,
   "metadata": {
    "collapsed": true
   },
   "outputs": [],
   "source": [
    "plt.imshow(x_test[0])\n",
    "plt.show()"
   ]
  },
  {
   "cell_type": "code",
   "execution_count": null,
   "metadata": {
    "collapsed": true
   },
   "outputs": [],
   "source": []
  }
 ],
 "metadata": {
  "anaconda-cloud": {},
  "kernelspec": {
   "display_name": "Python [Anaconda3]",
   "language": "python",
   "name": "Python [Anaconda3]"
  },
  "language_info": {
   "codemirror_mode": {
    "name": "ipython",
    "version": 3
   },
   "file_extension": ".py",
   "mimetype": "text/x-python",
   "name": "python",
   "nbconvert_exporter": "python",
   "pygments_lexer": "ipython3",
   "version": "3.5.5"
  }
 },
 "nbformat": 4,
 "nbformat_minor": 2
}
